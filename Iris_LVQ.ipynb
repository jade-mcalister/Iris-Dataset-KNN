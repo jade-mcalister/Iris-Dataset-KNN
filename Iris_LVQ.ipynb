{
  "nbformat": 4,
  "nbformat_minor": 0,
  "metadata": {
    "colab": {
      "provenance": [],
      "authorship_tag": "ABX9TyMG5rskdib6i6lCZn+27Y/F",
      "include_colab_link": true
    },
    "kernelspec": {
      "name": "python3",
      "display_name": "Python 3"
    },
    "language_info": {
      "name": "python"
    }
  },
  "cells": [
    {
      "cell_type": "markdown",
      "metadata": {
        "id": "view-in-github",
        "colab_type": "text"
      },
      "source": [
        "<a href=\"https://colab.research.google.com/github/jade-mcalister/Iris-Dataset-KNN/blob/development/Iris_LVQ.ipynb\" target=\"_parent\"><img src=\"https://colab.research.google.com/assets/colab-badge.svg\" alt=\"Open In Colab\"/></a>"
      ]
    },
    {
      "cell_type": "markdown",
      "source": [
        "# LVQ Model Applied to the Iris Dataset"
      ],
      "metadata": {
        "id": "84V0_-ddZjrM"
      }
    },
    {
      "cell_type": "code",
      "execution_count": 1,
      "metadata": {
        "colab": {
          "base_uri": "https://localhost:8080/"
        },
        "id": "tzLbCHSpZh63",
        "outputId": "9ef1c94e-068e-437a-8aa0-7014c098f5de"
      },
      "outputs": [
        {
          "output_type": "stream",
          "name": "stdout",
          "text": [
            "[0 1 2]\n"
          ]
        }
      ],
      "source": [
        "\n",
        "#imports\n",
        "import pandas as pd\n",
        "import numpy as np\n",
        "import seaborn as sns\n",
        "from sklearn import datasets\n",
        "from sklearn import metrics\n",
        "from sklearn.datasets import load_iris\n",
        "from sklearn.neighbors import KNeighborsClassifier\n",
        "from sklearn import preprocessing\n",
        "from sklearn.metrics import accuracy_score\n",
        "from sklearn.model_selection import train_test_split\n",
        "\n",
        "class LVQ:\n",
        "  def __init__(self):\n",
        "    self.codebook_vectors = None\n",
        "\n",
        "  def euclideanDistance(self, x1, x2):\n",
        "    return np.linalg.norm(x1-x2)\n",
        "\n",
        "  def findClosestVector(self, x):\n",
        "    distances=[self.euclideanDistance(x, codebook_vector) for codebook_vector in self.codebook_vectors]\n",
        "    return np.argmin(distances)\n",
        "\n",
        "  def fit(self, x, y, learningRate=0.1):\n",
        "    if self.codebook_vectors is None:\n",
        "      unique_classes = np.unique(y)\n",
        "      self.codebook_vectors = np.array([np.mean(x[y == cls], axis=0) for cls in unique_classes])\n",
        "    for i in range(len(x)):\n",
        "      x_value=x[i]\n",
        "      y_value=y[i]\n",
        "      closestVectorIndex = self.findClosestVector\n",
        "      if y_value == closestVectorIndex:\n",
        "          self.codebook_vectors[y_value] += learningRate * (x_value - self.codebook_vectors[y_value])\n",
        "      else:\n",
        "          self.codebook_vectors[y_value] -= learningRate * (x_value - self.codebook_vectors[y_value])\n",
        "\n",
        "  def predict(self, x):\n",
        "    predictions=[]\n",
        "    for x_value in x:\n",
        "      closestVectorIndex = self.findClosestVector\n",
        "      predictions.append(closestVectorIndex)\n",
        "    return predictions\n",
        "\n",
        "iris = datasets.load_iris()\n",
        "x = iris.data\n",
        "y = iris.target\n",
        "\n",
        "#split training and testing\n",
        "x_train, x_test, y_train, y_test = train_test_split(x, y, test_size = 0.3, random_state = 0)\n",
        "\n",
        "#initialize codebook vectors\n",
        "codebook_vectors=np.array([x_train[y_train==i].mean(axis=0) for i in range(3)])\n",
        "\n",
        "#lvq\n",
        "lvq=LVQ()\n",
        "lvq.fit(x_train, y_train)\n",
        "\n",
        "y_predict=lvq.predict(x_test)\n",
        "\n",
        "print(np.unique(y_test))"
      ]
    }
  ]
}